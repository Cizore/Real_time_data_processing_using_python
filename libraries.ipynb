{
 "cells": [
  {
   "cell_type": "markdown",
   "id": "29e8edc3-7241-4d66-a899-15970f77b239",
   "metadata": {},
   "source": [
    " Real Time Data Proccessing and Display using Python."
   ]
  },
  {
   "cell_type": "markdown",
   "id": "21253f58-8cb7-40a3-b722-cec795821dd8",
   "metadata": {},
   "source": [
    "Data Acquisition"
   ]
  },
  {
   "cell_type": "code",
   "execution_count": 2,
   "id": "1acd8345-90a3-49af-9695-4ec76a4f07c6",
   "metadata": {},
   "outputs": [],
   "source": [
    "import requests\n",
    "import websocket\n",
    "import pandas as pd\n"
   ]
  },
  {
   "cell_type": "markdown",
   "id": "6afd4fff-f539-4d0a-ae6b-d6a2f3f93511",
   "metadata": {},
   "source": [
    "Data Processing"
   ]
  },
  {
   "cell_type": "code",
   "execution_count": 4,
   "id": "2560648c-6b0c-44ad-ba4d-2434945539fb",
   "metadata": {},
   "outputs": [],
   "source": [
    "import numpy as np\n",
    "from scipy import stats \n",
    "from sklearn.preprocessing import StandardScaler\n",
    "import statsmodels.api as sm\n"
   ]
  },
  {
   "cell_type": "markdown",
   "id": "817c9dd5-4518-43a5-a69e-19a83574b4e9",
   "metadata": {},
   "source": [
    "Data Visualization"
   ]
  },
  {
   "cell_type": "code",
   "execution_count": 5,
   "id": "fa5d5595-87c0-4409-927e-fbab660779f7",
   "metadata": {},
   "outputs": [],
   "source": [
    "import matplotlib.pyplot as plt\n",
    "import seaborn as sns\n",
    "import plotly.express as px\n",
    "import dash\n",
    "from dash import dcc, html\n",
    "import bokeh.plotting as bkp\n",
    "\n"
   ]
  },
  {
   "cell_type": "raw",
   "id": "e047adfc-c6a8-422f-bd0b-9532cc1662e2",
   "metadata": {},
   "source": [
    "Real Time Display"
   ]
  },
  {
   "cell_type": "code",
   "execution_count": null,
   "id": "c4ff5cff-159d-4e68-99ed-064b8c7e6263",
   "metadata": {},
   "outputs": [],
   "source": [
    "import streamlit as st \n",
    "from flask import Flask\n",
    "import dash\n",
    "from dash import dcc, html"
   ]
  },
  {
   "cell_type": "markdown",
   "id": "4b2b8e7e-73b8-4dde-b81b-d0a409f67aa9",
   "metadata": {},
   "source": []
  },
  {
   "cell_type": "markdown",
   "id": "dc931af4-d128-4367-b19e-c60c6de82f65",
   "metadata": {},
   "source": [
    "Real time Plotting"
   ]
  },
  {
   "cell_type": "code",
   "execution_count": 9,
   "id": "a3f4883a-2599-4f3a-a46b-13cd2725d8d4",
   "metadata": {},
   "outputs": [
    {
     "name": "stdout",
     "output_type": "stream",
     "text": [
      "          0                                                  1\n",
      "0   neutral  According to Gran , the company has no plans t...\n",
      "1   neutral  Technopolis plans to develop in stages an area...\n",
      "2  negative  The international electronic industry company ...\n",
      "3  positive  With the new production plant the company woul...\n",
      "4  positive  According to the company 's updated strategy f...\n"
     ]
    }
   ],
   "source": [
    "import pandas as pd\n",
    "filename=r'C:\\Users\\compu\\Downloads\\all-data.csv'\n",
    "file=pd.read_csv(filename,encoding='ISO-8859-1',header=None)\n",
    "print(file.head())"
   ]
  },
  {
   "cell_type": "code",
   "execution_count": 12,
   "id": "0660135e-89e3-4611-8fb7-fe787629eefe",
   "metadata": {},
   "outputs": [
    {
     "data": {
      "text/plain": [
       "<function matplotlib.pyplot.show(close=None, block=None)>"
      ]
     },
     "execution_count": 12,
     "metadata": {},
     "output_type": "execute_result"
    },
    {
     "data": {
      "image/png": "[encoded data removed]",
      "text/plain": [
       "<Figure size 640x480 with 1 Axes>"
      ]
     },
     "metadata": {},
     "output_type": "display_data"
    }
   ],
   "source": [
    "import random\n",
    "from itertools import count\n",
    "import pandas as pd\n",
    "import matplotlib.pyplot as plt\n",
    "\n",
    "plt.style.use('fivethirtyeight')\n",
    "\n",
    "xvals= [0,1,2,3,4,5]\n",
    "yvals= [0,4,3,2,6,2]\n",
    "\n",
    "plt.plot(xvals,yvals)\n",
    "\n",
    "plt.tight_layout()\n",
    "plt.show\n"
   ]
  },
  {
   "cell_type": "code",
   "execution_count": 1,
   "id": "ae33086a-1c6c-42ad-ac4c-abdbc9f6a120",
   "metadata": {},
   "outputs": [
    {
     "data": {
      "text/plain": [
       "<Figure size 640x480 with 0 Axes>"
      ]
     },
     "metadata": {},
     "output_type": "display_data"
    },
    {
     "ename": "NameError",
     "evalue": "name 'ani' is not defined",
     "output_type": "error",
     "traceback": [
      "\u001b[1;31m---------------------------------------------------------------------------\u001b[0m",
      "\u001b[1;31mNameError\u001b[0m                                 Traceback (most recent call last)",
      "Cell \u001b[1;32mIn[1], line 30\u001b[0m\n\u001b[0;32m     28\u001b[0m plt\u001b[38;5;241m.\u001b[39mtight_layout()\n\u001b[0;32m     29\u001b[0m plt\u001b[38;5;241m.\u001b[39mshow()\n\u001b[1;32m---> 30\u001b[0m HTML(ani\u001b[38;5;241m.\u001b[39mto_jshtml())\n",
      "\u001b[1;31mNameError\u001b[0m: name 'ani' is not defined"
     ]
    }
   ],
   "source": [
    "import random\n",
    "from itertools import count\n",
    "import pandas as pd\n",
    "import matplotlib.pyplot as plt\n",
    "from matplotlib.animation import FuncAnimation\n",
    "from IPython.display import HTML\n",
    "\n",
    "\n",
    "\n",
    "plt.style.use('fivethirtyeight')\n",
    "\n",
    "xvals= []\n",
    "yvals= []\n",
    "\n",
    "index= count()\n",
    "\n",
    "def animate(i):\n",
    "    xvals.append(next(index))\n",
    "    yvals.append(random.randint(0,7))\n",
    "\n",
    "    plt.cla()\n",
    "    plt.plot(xvals,yvals)\n",
    "    \n",
    "    \n",
    "    ani = FuncAnimation(plt.gcf(), animate, frames=None, interval=1000, cache_frame_data=False)\n",
    "\n",
    "\n",
    "plt.tight_layout()\n",
    "plt.show()\n",
    "HTML(ani.to_jshtml())\n"
   ]
  },
  {
   "cell_type": "code",
   "execution_count": 4,
   "id": "e0fef7dc-a2d3-44c4-9623-8ab35079d935",
   "metadata": {},
   "outputs": [
    {
     "name": "stderr",
     "output_type": "stream",
     "text": [
      "C:\\Users\\srees\\anaconda3\\Lib\\site-packages\\matplotlib\\animation.py:892: UserWarning: Animation was deleted without rendering anything. This is most likely not intended. To prevent deletion, assign the Animation to a variable, e.g. `anim`, that exists until you output the Animation using `plt.show()` or `anim.save()`.\n",
      "  warnings.warn(\n"
     ]
    },
    {
     "data": {
      "image/png": "[encoded data removed]",
      "text/plain": [
       "<Figure size 800x400 with 1 Axes>"
      ]
     },
     "metadata": {},
     "output_type": "display_data"
    },
    {
     "data": {
      "text/plain": [
       "<Figure size 640x480 with 0 Axes>"
      ]
     },
     "metadata": {},
     "output_type": "display_data"
    }
   ],
   "source": [
    "import random\n",
    "from itertools import count\n",
    "import pandas as pd\n",
    "import matplotlib.pyplot as plt\n",
    "from matplotlib.animation import FuncAnimation\n",
    "\n",
    "plt.style.use('fivethirtyeight')\n",
    "\n",
    "xvals = []\n",
    "yvals = []\n",
    "\n",
    "index = count()\n",
    "\n",
    "fig, ax = plt.subplots(figsize=(8, 4))  # Create a figure and axis for the plot\n",
    "\n",
    "def animate(i):\n",
    "    xvals.append(next(index))\n",
    "    yvals.append(random.randint(0, 7))\n",
    "\n",
    "    ax.clear()\n",
    "    ax.plot(xvals, yvals)\n",
    "    ax.set_title('Live Random Data')  # Set title for the plot\n",
    "\n",
    "MAX_FRAMES = 100  # Example maximum number of frames\n",
    "ani = FuncAnimation(fig, animate, frames=None, interval=1000, save_count=MAX_FRAMES)\n",
    "plt.show()\n",
    "plt.tight_layout()\n",
    "\n",
    "\n"
   ]
  },
  {
   "cell_type": "markdown",
   "id": "7416fef6-04fb-4c24-8883-5fd3d7a75923",
   "metadata": {},
   "source": [
    "Creating a Port To allow a data stream to run through it\n"
   ]
  },
  {
   "cell_type": "code",
   "execution_count": null,
   "id": "66fc6db2-6217-400f-a0f9-84d131e87b01",
   "metadata": {},
   "outputs": [
    {
     "name": "stdout",
     "output_type": "stream",
     "text": [
      "Listening on port 8788...\n"
     ]
    }
   ],
   "source": [
    "import socket\n",
    "import threading\n",
    "\n",
    "bufsize = 1024\n",
    "targetHost = \"192.1.1.2\"  # Replace with the target IP address\n",
    "listenPort = 8788\n",
    "\n",
    "def forward(data, port):\n",
    "    print(f\"Forwarding: '{data}' from port {port}\")\n",
    "\n",
    "def handle_client(client_socket):\n",
    "    while True:\n",
    "        data = client_socket.recv(bufsize)\n",
    "        if not data:\n",
    "            break  # Connection closed by client\n",
    "        forward(data.decode('utf-8'), listenPort)\n",
    "    client_socket.close()\n",
    "\n",
    "# Set up a socket to listen on the specified port\n",
    "server_socket = socket.socket(socket.AF_INET, socket.SOCK_STREAM)\n",
    "server_socket.bind((socket.gethostname(), listenPort))\n",
    "server_socket.listen(5)\n",
    "\n",
    "print(f\"Listening on port {listenPort}...\")\n",
    "\n",
    "while True:\n",
    "    client_socket, addr = server_socket.accept()\n",
    "    client_thread = threading.Thread(target=handle_client, args=(client_socket,))\n",
    "    client_thread.start()"
   ]
  },
  {
   "cell_type": "markdown",
   "id": "6b559326-8a7c-4f85-9f3b-bfadffb8815e",
   "metadata": {},
   "source": [
    "Writing a code to create a server\n"
   ]
  },
  {
   "cell_type": "code",
   "execution_count": null,
   "id": "230b55b3-0771-4a9e-9789-06cdf1f3db28",
   "metadata": {},
   "outputs": [
    {
     "name": "stdout",
     "output_type": "stream",
     "text": [
      "[*] Listening on 0.0.0.0:12345\n"
     ]
    }
   ],
   "source": [
    "import socket\n",
    "import threading\n",
    "\n",
    "# Function to handle client connections\n",
    "def handle_client(client_socket, address):\n",
    "    print(f\"Accepted connection from {address}\")\n",
    "\n",
    "    while True:\n",
    "        # Receive data from the client\n",
    "        data = client_socket.recv(1024)\n",
    "        if not data:\n",
    "            break\n",
    "\n",
    "        # Perform real-time data analysis\n",
    "        # Replace this with your actual data analysis logic\n",
    "        processed_data = data.decode().upper()\n",
    "\n",
    "        # Send back the processed data (optional)\n",
    "        client_socket.send(processed_data.encode())\n",
    "\n",
    "    print(f\"Connection from {address} closed\")\n",
    "    client_socket.close()\n",
    "\n",
    "# Server configuration\n",
    "SERVER_HOST = '0.0.0.0'  # Listen on all network interfaces\n",
    "SERVER_PORT = 12345  # Choose a port number for your server\n",
    "\n",
    "# Create a TCP socket\n",
    "server_socket = socket.socket(socket.AF_INET, socket.SOCK_STREAM)\n",
    "\n",
    "# Bind the socket to the address and port\n",
    "server_socket.bind((SERVER_HOST, SERVER_PORT))\n",
    "\n",
    "# Start listening for incoming connections\n",
    "server_socket.listen(5)\n",
    "print(f\"[*] Listening on {SERVER_HOST}:{SERVER_PORT}\")\n",
    "\n",
    "try:\n",
    "    while True:\n",
    "        # Accept incoming connections\n",
    "        client_socket, address = server_socket.accept()\n",
    "\n",
    "        # Start a new thread to handle the client\n",
    "        client_thread = threading.Thread(target=handle_client, args=(client_socket, address))\n",
    "        client_thread.start()\n",
    "\n",
    "except KeyboardInterrupt:\n",
    "    print(\"\\n[*] Server shutting down.\")\n",
    "finally:\n",
    "    # Close the server socket\n",
    "    server_socket.close()\n"
   ]
  },
  {
   "cell_type": "code",
   "execution_count": null,
   "id": "3a70d3dd-332d-480c-bde7-4f89033e34cc",
   "metadata": {},
   "outputs": [],
   "source": [
    "import socket\n",
    "import threading\n",
    "\n",
    "# Function to handle client connections\n",
    "def handle_client(client_socket, address):\n",
    "    print(f\"Accepted connection from {address}\")\n",
    "\n",
    "    try:\n",
    "        while True:\n",
    "            # Receive data from the client\n",
    "            data = client_socket.recv(1024)\n",
    "            if not data:\n",
    "                break\n",
    "\n",
    "            # Process the received data\n",
    "            processed_data = process_data(data)\n",
    "\n",
    "            # Example: Print the processed data\n",
    "            print(f\"Processed data from {address}: {processed_data}\")\n",
    "\n",
    "    except Exception as e:\n",
    "        print(f\"Exception occurred with {address}: {str(e)}\")\n",
    "    finally:\n",
    "        print(f\"Connection from {address} closed\")\n",
    "        client_socket.close()\n",
    "\n",
    "# Function to process incoming data (replace with your actual data analysis logic)\n",
    "def process_data(data):\n",
    "    return data.decode().strip()  # Example: Echo back the received data\n",
    "\n",
    "# Server configuration\n",
    "SERVER_HOST = '0.0.0.0'  # Listen on all network interfaces\n",
    "SERVER_PORT = 12345  # Choose a port number for your server\n",
    "\n",
    "# Create a TCP socket\n",
    "server_socket = socket.socket(socket.AF_INET, socket.SOCK_STREAM)\n",
    "\n",
    "# Bind the socket to the address and port\n",
    "server_socket.bind((SERVER_HOST, SERVER_PORT))\n",
    "\n",
    "# Start listening for incoming connections\n",
    "server_socket.listen(5)\n",
    "print(f\"[*] Listening on {SERVER_HOST}:{SERVER_PORT}\")\n",
    "\n",
    "try:\n",
    "    while True:\n",
    "        # Accept incoming connections\n",
    "        client_socket, address = server_socket.accept()\n",
    "\n",
    "        # Start a new thread to handle the client\n",
    "        client_thread = threading.Thread(target=handle_client, args=(client_socket, address))\n",
    "        client_thread.start()\n",
    "\n",
    "except KeyboardInterrupt:\n",
    "    print(\"\\n[*] Server shutting down.\")\n",
    "finally:\n",
    "    # Close the server socket\n",
    "    server_socket.close()\n"
   ]
  },
  {
   "cell_type": "markdown",
   "id": "691563e6-f31f-46b2-869b-2a20f7add703",
   "metadata": {},
   "source": [
    "writing a code for client \n",
    "(modify it later while connecting)"
   ]
  },
  {
   "cell_type": "code",
   "execution_count": null,
   "id": "7a04c5f2-ef34-4c37-bf74-b0e5b7c2b8bc",
   "metadata": {},
   "outputs": [],
   "source": [
    "import socket\n",
    "import time\n",
    "\n",
    "# Server address and port\n",
    "SERVER_HOST = '127.0.0.1'  # Replace with server's IP address or hostname\n",
    "SERVER_PORT = 12345         # Replace with server's port number\n",
    "\n",
    "import socket\n",
    "\n",
    "# Function to simulate data generation (replace with your actual data source)\n",
    "def generate_data():\n",
    "    return \"Hello, server!\"\n",
    "\n",
    "\n",
    "# Example usage:\n",
    "received_data = receive_data()\n",
    "print(f\"Received data from Ethernet: {received_data}\")\n",
    "\n",
    "\n",
    "# Create a TCP socket\n",
    "client_socket = socket.socket(socket.AF_INET, socket.SOCK_STREAM)\n",
    "\n",
    "try:\n",
    "    # Connect to the server\n",
    "    client_socket.connect((SERVER_HOST, SERVER_PORT))\n",
    "    print(f\"[*] Connected to {SERVER_HOST}:{SERVER_PORT}\")\n",
    "\n",
    "    # Simulate sending data in a loop\n",
    "    while True:\n",
    "        data = generate_data()\n",
    "        client_socket.sendall(data.encode())\n",
    "        print(f\"Sent data to server: {data}\")\n",
    "        time.sleep(1)  # Simulate some delay between data transmissions\n",
    "\n",
    "except Exception as e:\n",
    "    print(f\"Error occurred: {str(e)}\")\n",
    "\n",
    "finally:\n",
    "    # Close the connection\n",
    "    client_socket.close()\n",
    "    print(\"[*] Connection closed.\")\n"
   ]
  },
  {
   "cell_type": "code",
   "execution_count": 4,
   "id": "aed39b53-485f-404c-85d1-b6d3b2bdb15f",
   "metadata": {},
   "outputs": [
    {
     "ename": "TimeoutError",
     "evalue": "[WinError 10060] A connection attempt failed because the connected party did not properly respond after a period of time, or established connection failed because connected host has failed to respond",
     "output_type": "error",
     "traceback": [
      "\u001b[1;31m---------------------------------------------------------------------------\u001b[0m",
      "\u001b[1;31mTimeoutError\u001b[0m                              Traceback (most recent call last)",
      "Cell \u001b[1;32mIn[4], line 14\u001b[0m\n\u001b[0;32m     11\u001b[0m client_socket \u001b[38;5;241m=\u001b[39m socket\u001b[38;5;241m.\u001b[39msocket(socket\u001b[38;5;241m.\u001b[39mAF_INET, socket\u001b[38;5;241m.\u001b[39mSOCK_STREAM)\n\u001b[0;32m     13\u001b[0m \u001b[38;5;66;03m# Connect to the server\u001b[39;00m\n\u001b[1;32m---> 14\u001b[0m client_socket\u001b[38;5;241m.\u001b[39mconnect((SERVER_IP, SERVER_PORT))\n\u001b[0;32m     16\u001b[0m \u001b[38;5;66;03m# Send data to the server\u001b[39;00m\n\u001b[0;32m     17\u001b[0m client_socket\u001b[38;5;241m.\u001b[39msendall(message\u001b[38;5;241m.\u001b[39mencode())\n",
      "\u001b[1;31mTimeoutError\u001b[0m: [WinError 10060] A connection attempt failed because the connected party did not properly respond after a period of time, or established connection failed because connected host has failed to respond"
     ]
    }
   ],
   "source": [
    "import socket\n",
    "\n",
    "# Server (Laptop A) configuration\n",
    "SERVER_IP = '192.168.1.100'  # Replace with Laptop A's IP address\n",
    "SERVER_PORT = 12345  # Same port number used by the server\n",
    "\n",
    "# Data to be sent\n",
    "message = \"Hello, Laptop A!\"\n",
    "\n",
    "# Create a socket object\n",
    "client_socket = socket.socket(socket.AF_INET, socket.SOCK_STREAM)\n",
    "\n",
    "# Connect to the server\n",
    "client_socket.connect((SERVER_IP, SERVER_PORT))\n",
    "\n",
    "# Send data to the server\n",
    "client_socket.sendall(message.encode())\n",
    "\n",
    "# Receive data from the server\n",
    "received_data = client_socket.recv(1024)  # Buffer size 1024 bytes\n",
    "\n",
    "print(f\"Received from server (Laptop A): {received_data.decode()}\")\n",
    "\n",
    "# Close the connection\n",
    "client_socket.close()\n"
   ]
  },
  {
   "cell_type": "code",
   "execution_count": 7,
   "id": "145a6ac4-9d96-4780-bce4-07f7e5080e96",
   "metadata": {},
   "outputs": [
    {
     "ename": "TimeoutError",
     "evalue": "[WinError 10060] A connection attempt failed because the connected party did not properly respond after a period of time, or established connection failed because connected host has failed to respond",
     "output_type": "error",
     "traceback": [
      "\u001b[1;31m---------------------------------------------------------------------------\u001b[0m",
      "\u001b[1;31mTimeoutError\u001b[0m                              Traceback (most recent call last)",
      "Cell \u001b[1;32mIn[7], line 14\u001b[0m\n\u001b[0;32m     11\u001b[0m client_socket \u001b[38;5;241m=\u001b[39m socket\u001b[38;5;241m.\u001b[39msocket(socket\u001b[38;5;241m.\u001b[39mAF_INET, socket\u001b[38;5;241m.\u001b[39mSOCK_STREAM)\n\u001b[0;32m     13\u001b[0m \u001b[38;5;66;03m# Connect to the server\u001b[39;00m\n\u001b[1;32m---> 14\u001b[0m client_socket\u001b[38;5;241m.\u001b[39mconnect((SERVER_IP, SERVER_PORT))\n\u001b[0;32m     16\u001b[0m \u001b[38;5;66;03m# Send data to the server\u001b[39;00m\n\u001b[0;32m     17\u001b[0m client_socket\u001b[38;5;241m.\u001b[39msendall(message\u001b[38;5;241m.\u001b[39mencode())\n",
      "\u001b[1;31mTimeoutError\u001b[0m: [WinError 10060] A connection attempt failed because the connected party did not properly respond after a period of time, or established connection failed because connected host has failed to respond"
     ]
    }
   ],
   "source": [
    "import socket\n",
    "\n",
    "# Server (Laptop A) configuration\n",
    "SERVER_IP = '192.168.1.100'  # Replace with Laptop A's correct IP address\n",
    "SERVER_PORT = 12345  # Same port number used by the server\n",
    "\n",
    "# Data to be sent\n",
    "message = \"Hello, Laptop A!\"\n",
    "\n",
    "# Create a socket object\n",
    "client_socket = socket.socket(socket.AF_INET, socket.SOCK_STREAM)\n",
    "\n",
    "# Connect to the server\n",
    "client_socket.connect((SERVER_IP, SERVER_PORT))\n",
    "\n",
    "# Send data to the server\n",
    "client_socket.sendall(message.encode())\n",
    "\n",
    "# Receive data from the server\n",
    "received_data = client_socket.recv(1024)  # Buffer size 1024 bytes\n",
    "\n",
    "print(f\"Received from server (Laptop A): {received_data.decode()}\")\n",
    "\n",
    "# Close the connection\n",
    "client_socket.close()\n",
    "import socket\n",
    "\n",
    "# Server configuration\n",
    "SERVER_IP = '192.168.1.100'  # Replace with Laptop A's correct IP address\n",
    "SERVER_PORT = 12345  # Choose a port number that is not in use\n",
    "\n",
    "# Create a socket object\n",
    "server_socket = socket.socket(socket.AF_INET, socket.SOCK_STREAM)\n",
    "\n",
    "try:\n",
    "    # Bind the socket to the IP address and port\n",
    "    server_socket.bind((SERVER_IP, SERVER_PORT))\n",
    "except OSError as e:\n",
    "    print(f\"Error: {e}\")\n",
    "    exit(1)\n",
    "\n",
    "# Listen for incoming connections (max queue of 5)\n",
    "server_socket.listen(5)\n",
    "\n",
    "print(f\"Server (Laptop A) is listening on {SERVER_IP}:{SERVER_PORT}...\")\n",
    "\n",
    "# Accept incoming connection\n",
    "client_socket, client_address = server_socket.accept()\n",
    "\n",
    "print(f\"Connection established with {client_address}\")\n",
    "\n",
    "# Receive data from the client\n",
    "while True:\n",
    "    data = client_socket.recv(1024)  # Buffer size 1024 bytes\n",
    "    if not data:\n",
    "        break\n",
    "    print(f\"Received from client: {data.decode()}\")\n",
    "\n",
    "    # Echo back the received data\n",
    "    client_socket.sendall(data)\n",
    "\n",
    "# Close the connection\n",
    "client_socket.close()\n",
    "server_socket.close()\n",
    "\n"
   ]
  },
  {
   "cell_type": "code",
   "execution_count": null,
   "id": "78e7a48c-72b4-44d1-88ee-93dc5f761979",
   "metadata": {},
   "outputs": [
    {
     "name": "stdout",
     "output_type": "stream",
     "text": [
      "Error: [WinError 10049] The requested address is not valid in its context\n"
     ]
    },
    {
     "name": "stdin",
     "output_type": "stream",
     "text": [
      "Enter message to send (or 'exit' to quit):  70\n"
     ]
    },
    {
     "name": "stdout",
     "output_type": "stream",
     "text": [
      "Message sent.\n"
     ]
    }
   ],
   "source": [
    "import socket\n",
    "import threading\n",
    "import time\n",
    "\n",
    "BACKLOG = 0\n",
    "IP_ADDR = '192.168.1.76'\n",
    "PORT = 8888\n",
    "MAXLEN = 1\n",
    "\n",
    "cliarray = []\n",
    "data = []\n",
    "cli_count = 0\n",
    "\n",
    "def send_message(s, sock):\n",
    "    for client_sock in cliarray:\n",
    "        if client_sock != sock:\n",
    "            client_sock.send(s.encode())\n",
    "\n",
    "def send_message_all(s):\n",
    "    for client_sock in cliarray:\n",
    "        client_sock.send(s.encode())\n",
    "\n",
    "def handle_conn(client_sock):\n",
    "    global cli_count\n",
    "    global data\n",
    "    \n",
    "    while True:\n",
    "        client_msg = client_sock.recv(MAXLEN).decode()\n",
    "        current_time = int(round(time.time() * 1000))\n",
    "        \n",
    "        if not client_msg:\n",
    "            break\n",
    "        \n",
    "        client_int = ord(client_msg)\n",
    "        send_message(client_msg, client_sock)\n",
    "        milliseconds_sent = int(round(time.time() * 1000))\n",
    "        \n",
    "        row = [client_int, current_time, milliseconds_sent, len(client_msg)]\n",
    "        data.append(row)\n",
    "        \n",
    "        if client_int == 100:\n",
    "            break\n",
    "    \n",
    "    print(f\"Connection closed: {client_sock}\")\n",
    "    cli_count -= 1\n",
    "    client_sock.close()\n",
    "\n",
    "def main():\n",
    "    global BACKLOG\n",
    "    global cli_count\n",
    "    \n",
    "    sock = socket.socket(socket.AF_INET, socket.SOCK_STREAM)\n",
    "    sock.setsockopt(socket.SOL_SOCKET, socket.SO_REUSEADDR, 1)\n",
    "    \n",
    "    try:\n",
    "        sock.bind((IP_ADDR, PORT))\n",
    "        sock.listen()\n",
    "        print(f\"Listening on {IP_ADDR}:{PORT}\")\n",
    "        \n",
    "        BACKLOG = int(input(\"Enter # clients: \"))\n",
    "        filename = input(\"Enter name of text file (num clients - trial #).txt: \")\n",
    "        \n",
    "        running = True\n",
    "        while running:\n",
    "            client_sock, addr = sock.accept()\n",
    "            print(f\"Got a connection from {addr}\")\n",
    "            cli_count += 1\n",
    "            cliarray.append(client_sock)\n",
    "            \n",
    "            if cli_count == BACKLOG:\n",
    "                print(\"Max clients reached\")\n",
    "                running = False\n",
    "        \n",
    "        with open(filename, 'a') as frout:\n",
    "            frout.write(\"recv \\ttime recv (ms) \\ttime sent (ms) \\tlength of msg\\n\")\n",
    "        \n",
    "        mesg = chr(cli_count)\n",
    "        send_message_all(mesg)\n",
    "        print(f\"Length of mesg: {len(mesg)}\")\n",
    "        \n",
    "        threads = []\n",
    "        for client_sock in cliarray:\n",
    "            thread = threading.Thread(target=handle_conn, args=(client_sock,))\n",
    "            threads.append(thread)\n",
    "            thread.start()\n",
    "        \n",
    "        print(\"Created threads\")\n",
    "        \n",
    "        for thread in threads:\n",
    "            thread.join()\n",
    "        \n",
    "        print(\"Joined send/recv threads\")\n",
    "        \n",
    "        with open(filename, 'a') as frout:\n",
    "            for row in data:\n",
    "                frout.write(f\"{row[0]}\\t{row[1]}\\t{row[2]}\\t{row[3]}\\n\")\n",
    "    \n",
    "    except Exception as e:\n",
    "        print(f\"Error: {e}\")\n",
    "    \n",
    "    finally:\n",
    "        for client_sock in cliarray:\n",
    "            client_sock.close()\n",
    "        sock.close()\n",
    "\n",
    "if __name__ == \"__main__\":\n",
    "    main()\n",
    "import socket\n",
    "import time\n",
    "\n",
    "IP_ADDR = '192.168.1.214'\n",
    "PORT = 8888\n",
    "MAXLEN = 1\n",
    "\n",
    "def main():\n",
    "    try:\n",
    "        client_sock = socket.socket(socket.AF_INET, socket.SOCK_STREAM)\n",
    "        client_sock.connect((IP_ADDR, PORT))\n",
    "        \n",
    "        while True:\n",
    "            message = input(\"Enter message to send (or 'exit' to quit): \")\n",
    "            \n",
    "            if message.lower() == 'exit':\n",
    "                break\n",
    "            \n",
    "            client_sock.send(message.encode())\n",
    "            print(\"Message sent.\")\n",
    "            \n",
    "            response = client_sock.recv(MAXLEN).decode()\n",
    "            print(f\"Received response: {response}\")\n",
    "        \n",
    "        client_sock.close()\n",
    "    \n",
    "    except Exception as e:\n",
    "        print(f\"Error: {e}\")\n",
    "        if client_sock:\n",
    "            client_sock.close()\n",
    "\n",
    "if __name__ == \"__main__\":\n",
    "    main()\n",
    "\n",
    "\n"
   ]
  },
  {
   "cell_type": "code",
   "execution_count": null,
   "id": "d46ff2c1-2abd-4845-bbeb-e2c60d0f657f",
   "metadata": {},
   "outputs": [],
   "source": [
    "import socket\n",
    "\n",
    "# Create a socket object\n",
    "server_socket = socket.socket(socket.AF_INET, socket.SOCK_STREAM)\n",
    "\n",
    "# Bind the socket to a host and port\n",
    "server_host = 'localhost'\n",
    "server_port = 12345  # Choose any port that is not currently in use\n",
    "server_socket.bind((server_host, server_port))\n",
    "\n",
    "# Listen for incoming connections\n",
    "server_socket.listen(5)\n",
    "print(f\"Server is listening on {server_host}:{server_port}\")\n",
    "\n",
    "# Accept a client connection\n",
    "client_socket, client_address = server_socket.accept()\n",
    "print(f\"Connected to {client_address}\")\n",
    "\n",
    "try:\n",
    "    # Receive and process data continuously\n",
    "    while True:\n",
    "        # Receive data from the client\n",
    "        data = client_socket.recv(1024)  # Receive up to 1024 bytes of data\n",
    "        if not data:\n",
    "            break  # If no data is received, break the loop\n",
    "\n",
    "        # Process the received data (e.g., print or analyze)\n",
    "        print(f\"Received data from client: {data.decode()}\")\n",
    "\n",
    "         response = \"Data received successfully\"\n",
    "         client_socket.sendall(response.encode())\n",
    "\n",
    "except KeyboardInterrupt:\n",
    "    print(\"Keyboard interrupt received. Closing server.\")\n",
    "\n",
    "finally:\n",
    "    # Close the client socket\n",
    "    client_socket.close()\n",
    "\n",
    "    # Close the server socket\n",
    "    server_socket.close()\n",
    "\n",
    "\n",
    "\n"
   ]
  },
  {
   "cell_type": "code",
   "execution_count": null,
   "id": "d15a9fdf-009b-4fe0-817b-4c3094bd5f6c",
   "metadata": {},
   "outputs": [],
   "source": [
    "import socket\n",
    "import time\n",
    "\n",
    "# Create a socket object\n",
    "client_socket = socket.socket(socket.AF_INET, socket.SOCK_STREAM)\n",
    "\n",
    "# Connect to the server\n",
    "server_host = 'localhost'\n",
    "server_port = 12345  # Match the server's listening port\n",
    "client_socket.connect((server_host, server_port))\n",
    "\n",
    "try:\n",
    "    # Send and receive data continuously\n",
    "    while True:\n",
    "        # Generate some data (e.g., timestamp)\n",
    "        data = f\"Data packet sent at {time.strftime('%Y-%m-%d %H:%M:%S')}\"\n",
    "\n",
    "        # Send data to the server\n",
    "        client_socket.sendall(data.encode())\n",
    "\n",
    "        # Receive response from the server\n",
    "        response = client_socket.recv(1024)\n",
    "        print(f\"Received response from server: {response.decode()}\")\n",
    "\n",
    "        # Sleep for a short interval (simulate real-time data sending)\n",
    "        time.sleep(1)\n",
    "\n",
    "except KeyboardInterrupt:\n",
    "    print(\"Keyboard interrupt received. Closing client.\")\n",
    "\n",
    "finally:\n",
    "    # Close the client socket\n",
    "    client_socket.close()\n"
   ]
  },
  {
   "cell_type": "code",
   "execution_count": 1,
   "id": "2f700098-7b95-466c-b871-c0dc63f95a6a",
   "metadata": {},
   "outputs": [
    {
     "ename": "AttributeError",
     "evalue": "module 'socket' has no attribute 'AF_PACKET'",
     "output_type": "error",
     "traceback": [
      "\u001b[1;31m---------------------------------------------------------------------------\u001b[0m",
      "\u001b[1;31mAttributeError\u001b[0m                            Traceback (most recent call last)",
      "Cell \u001b[1;32mIn[1], line 5\u001b[0m\n\u001b[0;32m      2\u001b[0m \u001b[38;5;28;01mimport\u001b[39;00m \u001b[38;5;21;01mstruct\u001b[39;00m\n\u001b[0;32m      4\u001b[0m \u001b[38;5;66;03m# Create a raw socket (requires root/admin privileges)\u001b[39;00m\n\u001b[1;32m----> 5\u001b[0m server_socket \u001b[38;5;241m=\u001b[39m socket\u001b[38;5;241m.\u001b[39msocket(socket\u001b[38;5;241m.\u001b[39mAF_PACKET, socket\u001b[38;5;241m.\u001b[39mSOCK_RAW)\n\u001b[0;32m      7\u001b[0m \u001b[38;5;66;03m# Set the network interface (replace 'eth0' with your interface name)\u001b[39;00m\n\u001b[0;32m      8\u001b[0m interface \u001b[38;5;241m=\u001b[39m \u001b[38;5;124m'\u001b[39m\u001b[38;5;124meth0\u001b[39m\u001b[38;5;124m'\u001b[39m\n",
      "\u001b[1;31mAttributeError\u001b[0m: module 'socket' has no attribute 'AF_PACKET'"
     ]
    }
   ],
   "source": [
    "import socket\n",
    "import struct\n",
    "\n",
    "# Create a raw socket (requires root/admin privileges)\n",
    "server_socket = socket.socket(socket.AF_PACKET, socket.SOCK_RAW)\n",
    "\n",
    "# Set the network interface (replace 'eth0' with your interface name)\n",
    "interface = 'eth0'\n",
    "server_socket.bind((interface, 0))\n",
    "\n",
    "try:\n",
    "    while True:\n",
    "        # Construct your Ethernet frame here\n",
    "        ethernet_frame = b'\\x00\\x01\\x02\\x03\\x04\\x05'  # Example: Ethernet destination MAC address\n",
    "        ethernet_frame += b'\\x06\\x07\\x08\\x09\\x0A\\x0B'  # Ethernet source MAC address\n",
    "        ethernet_frame += b'\\x08\\x00'  # Ethernet type (IP)\n",
    "\n",
    "        # Send the raw Ethernet frame\n",
    "        server_socket.send(ethernet_frame)\n",
    "\n",
    "except KeyboardInterrupt:\n",
    "    print(\"Keyboard interrupt received. Closing server.\")\n",
    "\n",
    "finally:\n",
    "    # Close the raw socket\n",
    "    server_socket.close()\n"
   ]
  },
  {
   "cell_type": "code",
   "execution_count": 2,
   "id": "e3561a41-cabe-48a2-a373-6ee40ac60a84",
   "metadata": {},
   "outputs": [
    {
     "ename": "AttributeError",
     "evalue": "module 'socket' has no attribute 'AF_PACKET'",
     "output_type": "error",
     "traceback": [
      "\u001b[1;31m---------------------------------------------------------------------------\u001b[0m",
      "\u001b[1;31mAttributeError\u001b[0m                            Traceback (most recent call last)",
      "Cell \u001b[1;32mIn[2], line 5\u001b[0m\n\u001b[0;32m      2\u001b[0m \u001b[38;5;28;01mimport\u001b[39;00m \u001b[38;5;21;01mstruct\u001b[39;00m\n\u001b[0;32m      4\u001b[0m \u001b[38;5;66;03m# Create a raw socket (requires root/admin privileges)\u001b[39;00m\n\u001b[1;32m----> 5\u001b[0m client_socket \u001b[38;5;241m=\u001b[39m socket\u001b[38;5;241m.\u001b[39msocket(socket\u001b[38;5;241m.\u001b[39mAF_PACKET, socket\u001b[38;5;241m.\u001b[39mSOCK_RAW, socket\u001b[38;5;241m.\u001b[39mntohs(\u001b[38;5;241m0x0003\u001b[39m))\n\u001b[0;32m      7\u001b[0m \u001b[38;5;28;01mtry\u001b[39;00m:\n\u001b[0;32m      8\u001b[0m     \u001b[38;5;28;01mwhile\u001b[39;00m \u001b[38;5;28;01mTrue\u001b[39;00m:\n\u001b[0;32m      9\u001b[0m         \u001b[38;5;66;03m# Receive the raw Ethernet frame\u001b[39;00m\n",
      "\u001b[1;31mAttributeError\u001b[0m: module 'socket' has no attribute 'AF_PACKET'"
     ]
    }
   ],
   "source": [
    "import socket\n",
    "import struct\n",
    "\n",
    "# Create a raw socket (requires root/admin privileges)\n",
    "client_socket = socket.socket(socket.AF_PACKET, socket.SOCK_RAW, socket.ntohs(0x0003))\n",
    "\n",
    "try:\n",
    "    while True:\n",
    "        # Receive the raw Ethernet frame\n",
    "        raw_data, addr = client_socket.recvfrom(65536)\n",
    "\n",
    "        # Extract Ethernet header (14 bytes)\n",
    "        ethernet_header = raw_data[:14]\n",
    "        ethertype = struct.unpack('!H', ethernet_header[12:14])[0]\n",
    "\n",
    "        if ethertype == 0x0800:  # IPv4 ethertype\n",
    "            # Further process the IPv4 packet (if needed)\n",
    "            ip_header = raw_data[14:34]  # Example: Extracting IP header\n",
    "\n",
    "        # Print raw data (for illustration purposes)\n",
    "        print(f\"Received raw Ethernet data: {raw_data.hex()}\")\n",
    "\n",
    "except KeyboardInterrupt:\n",
    "    print(\"Keyboard interrupt received. Closing client.\")\n",
    "\n",
    "finally:\n",
    "    # Close the raw socket\n",
    "    client_socket.close()\n"
   ]
  },
  {
   "cell_type": "code",
   "execution_count": 4,
   "id": "0690e6ab-8437-4f32-b4cb-9c0b7a53933c",
   "metadata": {},
   "outputs": [
    {
     "ename": "AttributeError",
     "evalue": "module 'socket' has no attribute 'AF_PACKET'",
     "output_type": "error",
     "traceback": [
      "\u001b[1;31m---------------------------------------------------------------------------\u001b[0m",
      "\u001b[1;31mAttributeError\u001b[0m                            Traceback (most recent call last)",
      "Cell \u001b[1;32mIn[4], line 7\u001b[0m\n\u001b[0;32m      4\u001b[0m SERVER_INTERFACE_NAME \u001b[38;5;241m=\u001b[39m \u001b[38;5;124m\"\u001b[39m\u001b[38;5;124meth0\u001b[39m\u001b[38;5;124m\"\u001b[39m  \u001b[38;5;66;03m# Replace with your actual interface name\u001b[39;00m\n\u001b[0;32m      6\u001b[0m \u001b[38;5;66;03m# Create a raw socket\u001b[39;00m\n\u001b[1;32m----> 7\u001b[0m \u001b[38;5;28;01mwith\u001b[39;00m socket\u001b[38;5;241m.\u001b[39msocket(socket\u001b[38;5;241m.\u001b[39mAF_PACKET, socket\u001b[38;5;241m.\u001b[39mSOCK_RAW, socket\u001b[38;5;241m.\u001b[39mIPPROTO_RAW) \u001b[38;5;28;01mas\u001b[39;00m server_socket:\n\u001b[0;32m      8\u001b[0m     server_socket\u001b[38;5;241m.\u001b[39mbind((SERVER_INTERFACE_NAME, \u001b[38;5;241m0\u001b[39m))  \u001b[38;5;66;03m# Bind to the interface\u001b[39;00m\n\u001b[0;32m     10\u001b[0m     \u001b[38;5;66;03m# Construct your Ethernet frame (replace with actual data)\u001b[39;00m\n",
      "\u001b[1;31mAttributeError\u001b[0m: module 'socket' has no attribute 'AF_PACKET'"
     ]
    }
   ],
   "source": [
    "# server.py\n",
    "import socket\n",
    "\n",
    "SERVER_INTERFACE_NAME = \"eth0\"  # Replace with your actual interface name\n",
    "\n",
    "# Create a raw socket\n",
    "with socket.socket(socket.AF_PACKET, socket.SOCK_RAW, socket.IPPROTO_RAW) as server_socket:\n",
    "    server_socket.bind((SERVER_INTERFACE_NAME, 0))  # Bind to the interface\n",
    "\n",
    "    # Construct your Ethernet frame (replace with actual data)\n",
    "    destination_mac = b\"\\x00\\x11\\x22\\x33\\x44\\x55\"  # Destination MAC address\n",
    "    source_mac = b\"\\x66\\x77\\x88\\x99\\xaa\\xbb\"  # Source MAC address\n",
    "    transport_protocol = b\"\\x08\\x00\"  # IPv4 protocol\n",
    "    data = b\"Your raw Ethernet data here\"\n",
    "\n",
    "    ethernet_frame = destination_mac + source_mac + transport_protocol + data\n",
    "\n",
    "    # Send the frame to the client (replace client details)\n",
    "    client_mac = b\"\\xcc\\xdd\\xee\\xff\\x00\\x11\"\n",
    "    server_socket.sendto(ethernet_frame, (client_mac, 0))\n",
    "\n",
    "    print(\"Raw Ethernet frame sent to client.\")\n",
    "\n",
    "# Create a raw socket\n",
    "with socket.socket(socket.AF_PACKET, socket.SOCK_RAW, socket.IPPROTO_RAW) as server_socket:\n",
    "    server_socket.bind((SERVER_INTERFACE_NAME, 0))  # Bind to the interface\n",
    "\n",
    "    # Construct your Ethernet frame (replace with actual data)\n",
    "    destination_mac = b\"\\x00\\x11\\x22\\x33\\x44\\x55\"  # Destination MAC address\n",
    "    source_mac = b\"\\x66\\x77\\x88\\x99\\xaa\\xbb\"  # Source MAC address\n",
    "    transport_protocol = b\"\\x08\\x00\"  # IPv4 protocol\n",
    "    data = b\"Your raw Ethernet data here\"\n",
    "\n",
    "    ethernet_frame = destination_mac + source_mac + transport_protocol + data\n",
    "\n",
    "    # Send the frame to the client (replace client details)\n",
    "    client_mac = b\"\\xcc\\xdd\\xee\\xff\\x00\\x11\"\n",
    "    server_socket.sendto(ethernet_frame, (client_mac, 0))\n",
    "\n",
    "    print(\"Raw Ethernet frame sent to client.\")\n",
    "\n",
    "\n",
    "\n",
    "\n"
   ]
  },
  {
   "cell_type": "code",
   "execution_count": 5,
   "id": "6160d5ec-7aa3-4122-bdd0-f69a6776f743",
   "metadata": {
    "scrolled": true
   },
   "outputs": [
    {
     "ename": "ConnectionRefusedError",
     "evalue": "[WinError 10061] No connection could be made because the target machine actively refused it",
     "output_type": "error",
     "traceback": [
      "\u001b[1;31m---------------------------------------------------------------------------\u001b[0m",
      "\u001b[1;31mConnectionRefusedError\u001b[0m                    Traceback (most recent call last)",
      "Cell \u001b[1;32mIn[5], line 8\u001b[0m\n\u001b[0;32m      5\u001b[0m PORT \u001b[38;5;241m=\u001b[39m \u001b[38;5;241m12345\u001b[39m  \u001b[38;5;66;03m# Port to connect to (adjust as needed)\u001b[39;00m\n\u001b[0;32m      7\u001b[0m \u001b[38;5;28;01mwith\u001b[39;00m socket\u001b[38;5;241m.\u001b[39msocket(socket\u001b[38;5;241m.\u001b[39mAF_INET, socket\u001b[38;5;241m.\u001b[39mSOCK_STREAM) \u001b[38;5;28;01mas\u001b[39;00m client_socket:\n\u001b[1;32m----> 8\u001b[0m     client_socket\u001b[38;5;241m.\u001b[39mconnect((HOST, PORT))  \u001b[38;5;66;03m# Connect to the server\u001b[39;00m\n\u001b[0;32m     10\u001b[0m     received_data \u001b[38;5;241m=\u001b[39m client_socket\u001b[38;5;241m.\u001b[39mrecv(\u001b[38;5;241m1024\u001b[39m)  \u001b[38;5;66;03m# Receive data (adjust buffer size as needed)\u001b[39;00m\n\u001b[0;32m     11\u001b[0m     \u001b[38;5;28mprint\u001b[39m(\u001b[38;5;124mf\u001b[39m\u001b[38;5;124m\"\u001b[39m\u001b[38;5;124mReceived from server: \u001b[39m\u001b[38;5;132;01m{\u001b[39;00mreceived_data\u001b[38;5;241m.\u001b[39mdecode()\u001b[38;5;132;01m}\u001b[39;00m\u001b[38;5;124m\"\u001b[39m)\n",
      "\u001b[1;31mConnectionRefusedError\u001b[0m: [WinError 10061] No connection could be made because the target machine actively refused it"
     ]
    }
   ],
   "source": [
    "# client.py\n",
    "import socket\n",
    "\n",
    "HOST = \"127.0.0.1\"  # Server's IP address (replace with the actual server IP)\n",
    "PORT = 12345  # Port to connect to (adjust as needed)\n",
    "\n",
    "with socket.socket(socket.AF_INET, socket.SOCK_STREAM) as client_socket:\n",
    "    client_socket.connect((HOST, PORT))  # Connect to the server\n",
    "\n",
    "    received_data = client_socket.recv(1024)  # Receive data (adjust buffer size as needed)\n",
    "    print(f\"Received from server: {received_data.decode()}\")  # Process the received data\n"
   ]
  },
  {
   "cell_type": "code",
   "execution_count": null,
   "id": "52f073a8-6fda-485e-bb54-082e55875d91",
   "metadata": {},
   "outputs": [
    {
     "name": "stdout",
     "output_type": "stream",
     "text": [
      "Server started at 127.0.0.1:65432, waiting for a connection...\n"
     ]
    }
   ],
   "source": [
    "import socket\n",
    "\n",
    "def start_server(host='127.0.0.1', port=65432):\n",
    "    try:\n",
    "        server_socket = socket.socket(socket.AF_INET, socket.SOCK_STREAM)\n",
    "        server_socket.bind((host, port))\n",
    "        server_socket.listen(5)  # Listen for incoming connections (backlog of 5)\n",
    "\n",
    "        print(f'Server started at {host}:{port}, waiting for a connection...')\n",
    "\n",
    "        while True:\n",
    "            conn, addr = server_socket.accept()  # Accept incoming connection\n",
    "            print(f'Connected by {addr}')\n",
    "\n",
    "            # Handle client request (echo back data for demonstration)\n",
    "            data = conn.recv(1024)  # Receive data from client\n",
    "            if not data:\n",
    "                break\n",
    "\n",
    "            print(f\"Received data from client: {data.decode()}\")\n",
    "            conn.sendall(data)  # Echo back the received data\n",
    "\n",
    "            conn.close()  # Close the connection\n",
    "\n",
    "    except Exception as e:\n",
    "        print(f\"Server error: {e}\")\n",
    "    finally:\n",
    "        server_socket.close()\n",
    "\n",
    "# Start the server\n",
    "start_server()\n"
   ]
  },
  {
   "cell_type": "code",
   "execution_count": 1,
   "id": "cbc0bad8-fc58-4e8a-8769-863ae6bedbbe",
   "metadata": {},
   "outputs": [
    {
     "name": "stdout",
     "output_type": "stream",
     "text": [
      "Connected to server at 127.0.0.1:65432\n",
      "Received from server: Index,Customer Id,First Name,Last Name,Company,City,Country,Phone 1,Phone 2,Email,Subscription Date,Website\n",
      "\n"
     ]
    }
   ],
   "source": [
    "import socket\n",
    "\n",
    "def start_client(host='127.0.0.1', port=65432):\n",
    "    try:\n",
    "        client_socket = socket.socket(socket.AF_INET, socket.SOCK_STREAM)\n",
    "        client_socket.connect((host, port))\n",
    "        print(f'Connected to server at {host}:{port}')\n",
    "\n",
    "        # Send data to server (replace with your Ethernet data handling logic)\n",
    "        message = \"Hello, server!\"\n",
    "        client_socket.sendall(message.encode())\n",
    "\n",
    "        # Receive response from server\n",
    "        data = client_socket.recv(1024)\n",
    "        print(f\"Received from server: {data.decode()}\")\n",
    "\n",
    "    except Exception as e:\n",
    "        print(f\"Client error: {e}\")\n",
    "    finally:\n",
    "        client_socket.close()\n",
    "\n",
    "# Start the client\n",
    "start_client()\n"
   ]
  },
  {
   "cell_type": "code",
   "execution_count": null,
   "id": "b15cbc6f-01d7-4f37-9feb-adb6117abbb8",
   "metadata": {},
   "outputs": [],
   "source": [
    "import socket\n",
    "import threading\n",
    "import time\n",
    "import random\n",
    "\n",
    "def generate_random_data():\n",
    "    \"\"\"Generate random Ethernet-like data.\"\"\"\n",
    "    data = bytes(random.getrandbits(8) for _ in range(64))  # 64 bytes of random data\n",
    "    return data\n",
    "\n",
    "def handle_client_connection(conn):\n",
    "    try:\n",
    "        while True:\n",
    "            data = generate_random_data()\n",
    "            print(f\"Sending data: {data.hex()}\")\n",
    "            conn.sendall(data)\n",
    "            time.sleep(1)  # Send data every second\n",
    "    except Exception as e:\n",
    "        print(f\"Error: {e}\")\n",
    "    finally:\n",
    "        conn.close()\n",
    "\n",
    "def start_server(host='', port=64538):\n",
    "    try:\n",
    "        server_socket = socket.socket(socket.AF_INET, socket.SOCK_STREAM)\n",
    "        server_socket.bind((host, port))\n",
    "        server_socket.listen(5)  # Listen for incoming connections (backlog of 5)\n",
    "        print(f'Server started at {host}:{port}, waiting for a connection...')\n",
    "\n",
    "        while True:\n",
    "            conn, addr = server_socket.accept()  # Accept incoming connection\n",
    "            print(f'Connected by {addr}')\n",
    "            client_thread = threading.Thread(target=handle_client_connection, args=(conn,))\n",
    "            client_thread.start()\n",
    "\n",
    "    except Exception as e:\n",
    "        print(f\"Server error: {e}\")\n",
    "    finally:\n",
    "        server_socket.close()\n",
    "\n",
    "# Start the server\n",
    "start_server()\n"
   ]
  },
  {
   "cell_type": "code",
   "execution_count": null,
   "id": "201ae97f-9255-4acd-8a07-48f47803e3a0",
   "metadata": {},
   "outputs": [],
   "source": []
  }
 ],
 "metadata": {
  "kernelspec": {
   "display_name": "Python 3 (ipykernel)",
   "language": "python",
   "name": "python3"
  },
  "language_info": {
   "codemirror_mode": {
    "name": "ipython",
    "version": 3
   },
   "file_extension": ".py",
   "mimetype": "text/x-python",
   "name": "python",
   "nbconvert_exporter": "python",
   "pygments_lexer": "ipython3",
   "version": "3.11.7"
  }
 },
 "nbformat": 4,
 "nbformat_minor": 5
}
